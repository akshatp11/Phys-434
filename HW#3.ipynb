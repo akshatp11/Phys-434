{
 "cells": [
  {
   "cell_type": "markdown",
   "metadata": {},
   "source": [
    "## HW#3 Akshat Pandey"
   ]
  },
  {
   "cell_type": "markdown",
   "metadata": {},
   "source": [
    "### Problem 1"
   ]
  },
  {
   "cell_type": "markdown",
   "metadata": {},
   "source": [
    "a). The first algorithm makes fewer mistakes since it only has 8 miscategorizations compared to the 12 of the second one."
   ]
  },
  {
   "cell_type": "markdown",
   "metadata": {},
   "source": [
    "b). The second algorithm would be more suited to the needs of the zoo since the second algorithm is less likely to miscategorize a bird in comparison to the first one. Even though it is more likely to miscategorize humans, it is better for the humans to be locked in for a couple more seconds rather than a bird be set loose."
   ]
  },
  {
   "cell_type": "markdown",
   "metadata": {},
   "source": [
    "c). Assuming we still have a 100 pictures, the best way to recreate the truth tables would be to maintain the accuracy:"
   ]
  },
  {
   "cell_type": "markdown",
   "metadata": {},
   "source": [
    "For Table 1 - Now that only 1% of the images in the dataset are those of humans our True Person column should sum to one while the birds should sum to 99. We look at the past accuracy rate which is 92%. So for the new truth table to be consistent the accuracy of the algortih, should still be 92%."
   ]
  },
  {
   "cell_type": "markdown",
   "metadata": {},
   "source": [
    "|  | True Bird | True Human |\n",
    "|-------------|---------------|---|\n",
    "| NN Bird          |  91          | 0  |\n",
    "| NN Human          |   8        |  1 |\n",
    "\n"
   ]
  },
  {
   "cell_type": "markdown",
   "metadata": {},
   "source": [
    "For Table 2 - To fix the extra image change [NA Bird, True Person] to 10. Similarly, the accuracy should still be consistent but this time since the algorithm is more likely to misclassify a human we set the false classification of the human to 1. Now the accuracy score for old truth table is 89%. So for the new table the accuracy should still be the same."
   ]
  },
  {
   "cell_type": "markdown",
   "metadata": {},
   "source": [
    "|  | True Bird | True Human |\n",
    "|-------------|---------------|---|\n",
    "| NA Bird          |  89          | 1  |\n",
    "| NA Human          |   10        |  0 |"
   ]
  },
  {
   "cell_type": "markdown",
   "metadata": {},
   "source": [
    "With the lack of humans, it is better to use the first algortihm since it misclassifies birds less."
   ]
  },
  {
   "cell_type": "markdown",
   "metadata": {},
   "source": [
    "### Problem 2"
   ]
  },
  {
   "cell_type": "markdown",
   "metadata": {},
   "source": [
    "a). To find the pdf of the sum, we must use the convolution operatoe:"
   ]
  },
  {
   "cell_type": "markdown",
   "metadata": {},
   "source": [
    "$$\\int_{0}^{z} {\\lambda}e^{(-z+y)\\lambda} {\\lambda}e^{-y\\lambda}dy$$"
   ]
  },
  {
   "cell_type": "markdown",
   "metadata": {},
   "source": [
    "Which gives $${\\lambda^2}ze^{-z\\lambda} $$"
   ]
  },
  {
   "cell_type": "markdown",
   "metadata": {},
   "source": [
    "b). According to one of the properties of standard normal distributions, their ratio is the Cauchy distribtuion; which is"
   ]
  },
  {
   "cell_type": "markdown",
   "metadata": {},
   "source": [
    "$$\\frac{1}{\\pi{(x^2 + 1)}}$$ , $${-\\infty} < x < {\\infty} $$"
   ]
  },
  {
   "cell_type": "markdown",
   "metadata": {},
   "source": [
    "c). The distribution can be found on [Wikipedia](https://en.wikipedia.org/wiki/Gaussian_function#Two-dimensional_Gaussian_function) under the definition of the two dimensional Gaussian distribution."
   ]
  },
  {
   "cell_type": "markdown",
   "metadata": {},
   "source": [
    "$$ Ae^{-(a(x-x0)^2  + 2b(x-x0)(y-y0) + c(y-y0)^2)}$$"
   ]
  },
  {
   "cell_type": "markdown",
   "metadata": {},
   "source": [
    "Where A is always positive since it is the amplitude and the exponential term cannot be zero."
   ]
  }
 ],
 "metadata": {
  "kernelspec": {
   "display_name": "Python 3",
   "language": "python",
   "name": "python3"
  },
  "language_info": {
   "codemirror_mode": {
    "name": "ipython",
    "version": 3
   },
   "file_extension": ".py",
   "mimetype": "text/x-python",
   "name": "python",
   "nbconvert_exporter": "python",
   "pygments_lexer": "ipython3",
   "version": "3.7.4"
  }
 },
 "nbformat": 4,
 "nbformat_minor": 4
}
