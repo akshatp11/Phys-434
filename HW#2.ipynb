{
 "cells": [
  {
   "cell_type": "code",
   "execution_count": 14,
   "metadata": {},
   "outputs": [],
   "source": [
    "import numpy as np\n",
    "import matplotlib.pyplot as plt\n",
    "import math\n",
    "from scipy import stats"
   ]
  },
  {
   "cell_type": "markdown",
   "metadata": {},
   "source": [
    "### Problem 1"
   ]
  },
  {
   "cell_type": "code",
   "execution_count": 2,
   "metadata": {},
   "outputs": [
    {
     "name": "stdout",
     "output_type": "stream",
     "text": [
      "0.027777777777777776\n"
     ]
    }
   ],
   "source": [
    "# Number of events possible by rolling 2 six sided dice\n",
    "n_events = 6 * 6\n",
    "\n",
    "# Number of events where snake eyes\n",
    "n_se = 1\n",
    "\n",
    "# Probability of rolling snake eyes\n",
    "p_se = n_se / n_events\n",
    "print(p_se)"
   ]
  },
  {
   "cell_type": "code",
   "execution_count": 3,
   "metadata": {},
   "outputs": [
    {
     "name": "stdout",
     "output_type": "stream",
     "text": [
      "0.16666666666666666\n"
     ]
    }
   ],
   "source": [
    "# Number of events where the sum is 7\n",
    "n_7 = 6\n",
    "\n",
    "# Probability of rolling a 7\n",
    "p_7 = n_7 / n_events\n",
    "print(p_7)"
   ]
  },
  {
   "cell_type": "code",
   "execution_count": 4,
   "metadata": {},
   "outputs": [
    {
     "name": "stdout",
     "output_type": "stream",
     "text": [
      "0.16666666666666666\n"
     ]
    }
   ],
   "source": [
    "# Ratio of probabilities\n",
    "ratio = p_se / p_7\n",
    "print(ratio)"
   ]
  },
  {
   "cell_type": "markdown",
   "metadata": {},
   "source": [
    "In other words, you are six times more likely to roll sevens than snake eyes"
   ]
  },
  {
   "cell_type": "markdown",
   "metadata": {},
   "source": [
    "### Problem 2"
   ]
  },
  {
   "cell_type": "code",
   "execution_count": 5,
   "metadata": {},
   "outputs": [],
   "source": [
    "# Convolution - Analytically\n",
    "# Different values that can be rolled\n",
    "a = [1, 2, 3, 4, 5, 6]\n",
    "# Desired sum\n",
    "s = 7\n",
    "# Events that get desired sum\n",
    "count = 0"
   ]
  },
  {
   "cell_type": "code",
   "execution_count": 6,
   "metadata": {},
   "outputs": [
    {
     "name": "stdout",
     "output_type": "stream",
     "text": [
      "You can roll a 7 in these many ways: 6\n"
     ]
    }
   ],
   "source": [
    "for i in range(len(a)):\n",
    "    for j in range(len(a)):\n",
    "        if a[i] + a[j] == s:\n",
    "            count = count + 1\n",
    "print('You can roll a ' + str(s) + ' in these many ways: ' + str(count))"
   ]
  },
  {
   "cell_type": "code",
   "execution_count": 7,
   "metadata": {},
   "outputs": [
    {
     "name": "stdout",
     "output_type": "stream",
     "text": [
      "The probability of the sum of the dice to be 7 is 0.16666666666666666\n"
     ]
    }
   ],
   "source": [
    "# Probability of rolling desired sum\n",
    "desired_p_a = count / n_events\n",
    "print('The probability of the sum of the dice to be ' + str(s) + ' is ' + str(desired_p_a))"
   ]
  },
  {
   "cell_type": "code",
   "execution_count": 8,
   "metadata": {},
   "outputs": [],
   "source": [
    "# Convolution - Numerically\n",
    "# Array of probabilities for each value that can be thrown for a die\n",
    "p_vals = np.ones(6) * 1/6"
   ]
  },
  {
   "cell_type": "code",
   "execution_count": 9,
   "metadata": {},
   "outputs": [],
   "source": [
    "# Probabilities to roll all possible sums from two dice\n",
    "desired_p_n = np.convolve(p_vals, p_vals)\n",
    "# Possible sums\n",
    "possible_s = np.arange(2,13)"
   ]
  },
  {
   "cell_type": "code",
   "execution_count": 10,
   "metadata": {},
   "outputs": [
    {
     "data": {
      "image/png": "[encoded data removed]",
      "text/plain": [
       "<Figure size 432x288 with 1 Axes>"
      ]
     },
     "metadata": {
      "needs_background": "light"
     },
     "output_type": "display_data"
    }
   ],
   "source": [
    "plt.bar(possible_s, desired_p_n)\n",
    "plt.xlabel('Possible Sums')\n",
    "plt.ylabel('Probability')\n",
    "plt.title('Numerical convolution method to determine probability of sums')\n",
    "plt.xticks(possible_s)\n",
    "plt.show()"
   ]
  },
  {
   "cell_type": "markdown",
   "metadata": {},
   "source": [
    "### Problem 3"
   ]
  },
  {
   "cell_type": "code",
   "execution_count": 11,
   "metadata": {},
   "outputs": [
    {
     "name": "stdout",
     "output_type": "stream",
     "text": [
      "The mean and variance of the pdf found for the convolution operator are 7.0 and 5.833333333333334\n",
      "The standard deviation is 2.41522945769824\n"
     ]
    }
   ],
   "source": [
    "# Mean of pdf found earlier\n",
    "mean = 0\n",
    "for i in range(len(possible_s)):\n",
    "    mean = mean + possible_s[i] * desired_p_n[i]\n",
    "# Variance of pdf found earlier\n",
    "var = 0\n",
    "for i in range(len(possible_s)):\n",
    "    var = var + ((possible_s[i] - mean)**2) * desired_p_n[i] \n",
    "print('The mean and variance of the pdf found for the convolution operator are ' + str(mean) + ' and ' + str(var))\n",
    "print('The standard deviation is ' + str(math.sqrt(var)))"
   ]
  },
  {
   "cell_type": "markdown",
   "metadata": {},
   "source": [
    "### Problem 4"
   ]
  },
  {
   "cell_type": "code",
   "execution_count": 22,
   "metadata": {},
   "outputs": [
    {
     "data": {
      "text/plain": [
       "Text(0, 0.5, 'Probability')"
      ]
     },
     "execution_count": 22,
     "metadata": {},
     "output_type": "execute_result"
    },
    {
     "data": {
      "image/png": "[encoded data removed]",
      "text/plain": [
       "<Figure size 432x288 with 1 Axes>"
      ]
     },
     "metadata": {
      "needs_background": "light"
     },
     "output_type": "display_data"
    }
   ],
   "source": [
    "res = p_vals\n",
    "for n in range(9):\n",
    "    res = np.convolve(res, p_vals)\n",
    "b = np.arange(0, 7, 7/51)\n",
    "plt.bar(b, res)\n",
    "plt.title('Probability Distribution for average of 10 dice')\n",
    "plt.xlabel('Average Value')\n",
    "plt.ylabel('Probability')"
   ]
  },
  {
   "cell_type": "markdown",
   "metadata": {},
   "source": [
    "For ten dice, the distribution looks roughly gaussian; however, for such a small number of rolls it is not as apparent. Say for a higher number of dice the distribution would resemble a gaussian distribution more accurately. This occurs due to the Central Limit Theorem which says that if you take sufficiently large random samples from a population, their sum tends towards a normal distribution even if the initial population does not consist of normally distributed samples."
   ]
  },
  {
   "cell_type": "markdown",
   "metadata": {},
   "source": [
    "### Problem 5"
   ]
  },
  {
   "cell_type": "code",
   "execution_count": 23,
   "metadata": {},
   "outputs": [
    {
     "data": {
      "text/plain": [
       "[<matplotlib.lines.Line2D at 0x7f020d417210>]"
      ]
     },
     "execution_count": 23,
     "metadata": {},
     "output_type": "execute_result"
    },
    {
     "data": {
      "image/png": "[encoded data removed]",
      "text/plain": [
       "<Figure size 432x288 with 4 Axes>"
      ]
     },
     "metadata": {
      "needs_background": "light"
     },
     "output_type": "display_data"
    }
   ],
   "source": [
    "dist = stats.norm()\n",
    "x = np.linspace(-3, 3, 100)\n",
    "pdf = dist.pdf(x)\n",
    "\n",
    "ax_1 = plt.subplot(2, 2, 1)\n",
    "ax_1.set_title(\"Sum of Gaussians\")\n",
    "ax_1.plot(x, pdf)\n",
    "ax_1.plot(x, pdf + pdf)\n",
    "\n",
    "ax_2 = plt.subplot(2, 2, 2)\n",
    "ax_2.set_title(\"Average of Gaussians\")\n",
    "ax_2.plot(x, pdf)\n",
    "conv = np.convolve(pdf, pdf)\n",
    "ax_2.plot(np.linspace(-3, 3, len(conv)), conv)\n",
    "\n",
    "ax_3 = plt.subplot(2, 2, 3)\n",
    "ax_3.semilogy(x, pdf) \n",
    "ax_3.semilogy(x, pdf + pdf)\n",
    "\n",
    "ax_4 = plt.subplot(2, 2, 4)\n",
    "ax_4.semilogy(x, pdf)\n",
    "ax_4.semilogy(np.linspace(-3, 3, len(conv)), conv)"
   ]
  },
  {
   "cell_type": "markdown",
   "metadata": {},
   "source": [
    "By looking at the plots, we can see that both the sum and the average resemble the shape of a gaussian when on a log y scale (downwards parabola). The standard deviation of the sums remain roughly the same; however, when you take the average the standard deviation decreases. This is important since this implies that by taking averages of successive measurements you can reduce the standard deviation of the measurements."
   ]
  }
 ],
 "metadata": {
  "kernelspec": {
   "display_name": "Python 3",
   "language": "python",
   "name": "python3"
  },
  "language_info": {
   "codemirror_mode": {
    "name": "ipython",
    "version": 3
   },
   "file_extension": ".py",
   "mimetype": "text/x-python",
   "name": "python",
   "nbconvert_exporter": "python",
   "pygments_lexer": "ipython3",
   "version": "3.7.4"
  }
 },
 "nbformat": 4,
 "nbformat_minor": 4
}
